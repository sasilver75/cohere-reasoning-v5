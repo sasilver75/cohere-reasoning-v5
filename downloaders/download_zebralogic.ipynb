{
 "cells": [
  {
   "cell_type": "code",
   "execution_count": 24,
   "metadata": {},
   "outputs": [],
   "source": [
    "import pandas as pd\n",
    "import os\n",
    "import datasets\n"
   ]
  },
  {
   "cell_type": "code",
   "execution_count": 25,
   "metadata": {},
   "outputs": [],
   "source": [
    "# Set pandas display options to show full width of columns\n",
    "pd.set_option('display.max_colwidth', None)\n",
    "pd.set_option('display.max_columns', None)\n",
    "pd.set_option('display.width', None)\n"
   ]
  },
  {
   "cell_type": "code",
   "execution_count": 32,
   "metadata": {},
   "outputs": [
    {
     "name": "stdout",
     "output_type": "stream",
     "text": [
      "DatasetDict({\n",
      "    test: Dataset({\n",
      "        features: ['id', 'puzzle', 'question', 'choices', 'answer', 'created_at'],\n",
      "        num_rows: 3259\n",
      "    })\n",
      "})\n"
     ]
    }
   ],
   "source": [
    "private_name = \"allenai/ZebraLogicBench-private\"\n",
    "private_dataset = datasets.load_dataset(private_name, \"mc_mode\")\n",
    "print(private_dataset)\n",
    "private_df = pd.DataFrame(private_dataset[\"test\"])"
   ]
  },
  {
   "cell_type": "code",
   "execution_count": 34,
   "metadata": {},
   "outputs": [
    {
     "data": {
      "text/html": [
       "<div>\n",
       "<style scoped>\n",
       "    .dataframe tbody tr th:only-of-type {\n",
       "        vertical-align: middle;\n",
       "    }\n",
       "\n",
       "    .dataframe tbody tr th {\n",
       "        vertical-align: top;\n",
       "    }\n",
       "\n",
       "    .dataframe thead th {\n",
       "        text-align: right;\n",
       "    }\n",
       "</style>\n",
       "<table border=\"1\" class=\"dataframe\">\n",
       "  <thead>\n",
       "    <tr style=\"text-align: right;\">\n",
       "      <th></th>\n",
       "      <th>id</th>\n",
       "      <th>puzzle</th>\n",
       "      <th>question</th>\n",
       "      <th>choices</th>\n",
       "      <th>answer</th>\n",
       "      <th>created_at</th>\n",
       "    </tr>\n",
       "  </thead>\n",
       "  <tbody>\n",
       "    <tr>\n",
       "      <th>0</th>\n",
       "      <td>lgp-test-6x4-37#mc-16</td>\n",
       "      <td>There are 6 houses, numbered 1 to 6 from left to right, as seen from across the street. Each house is occupied by a different person. Each house has a unique attribute for each of the following characteristics:\\n - Each person has a unique name: `Arnold`, `Peter`, `Eric`, `Alice`, `Bob`, `Carol`\\n - People have unique favorite book genres: `biography`, `science fiction`, `fantasy`, `mystery`, `romance`, `historical fiction`\\n - People have unique favorite sports: `baseball`, `basketball`, `swimming`, `volleyball`, `tennis`, `soccer`\\n - People own unique car models: `honda civic`, `ford f150`, `tesla model 3`, `chevrolet silverado`, `bmw 3 series`, `toyota camry`\\n\\n## Clues:\\n1. Eric is the person who loves mystery books.\\n2. The person who loves tennis is the person who loves fantasy books.\\n3. The person who loves soccer is directly left of the person who loves science fiction books.\\n4. There is one house between the person who owns a Honda Civic and the person who loves biography books.\\n5. Peter is somewhere to the right of Carol.\\n6. The person who loves tennis is in the first house.\\n7. The person who owns a Tesla Model 3 is somewhere to the right of the person who loves baseball.\\n8. Eric is somewhere to the left of the person who loves romance books.\\n9. The person who owns a Toyota Camry is somewhere to the right of the person who loves romance books.\\n10. The person who owns a BMW 3 Series is Peter.\\n11. The person who owns a BMW 3 Series is the person who loves basketball.\\n12. The person who owns a Tesla Model 3 is directly left of Arnold.\\n13. Alice and the person who loves volleyball are next to each other.\\n14. The person who loves historical fiction books is the person who loves soccer.\\n15. The person who owns a Chevrolet Silverado is not in the first house.\\n16. The person who loves science fiction books is directly left of the person who loves swimming.\\n</td>\n",
       "      <td>What is Name of the person who lives in House 5?</td>\n",
       "      <td>[Eric, Bob, Alice, Peter, Carol, Arnold]</td>\n",
       "      <td>Bob</td>\n",
       "      <td>2024-07-03T21:21:31.375234</td>\n",
       "    </tr>\n",
       "  </tbody>\n",
       "</table>\n",
       "</div>"
      ],
      "text/plain": [
       "                      id  \\\n",
       "0  lgp-test-6x4-37#mc-16   \n",
       "\n",
       "                                                                                                                                                                                                                                                                                                                                                                                                                                                                                                                                                                                                                                                                                                                                                                                                                                                                                                                                                                                                                                                                                                                                                                                                                                                                                                                                                                                                                                                                                                                                                                                                                                                                                                                                                                                                                                                                                                                                                                                 puzzle  \\\n",
       "0  There are 6 houses, numbered 1 to 6 from left to right, as seen from across the street. Each house is occupied by a different person. Each house has a unique attribute for each of the following characteristics:\\n - Each person has a unique name: `Arnold`, `Peter`, `Eric`, `Alice`, `Bob`, `Carol`\\n - People have unique favorite book genres: `biography`, `science fiction`, `fantasy`, `mystery`, `romance`, `historical fiction`\\n - People have unique favorite sports: `baseball`, `basketball`, `swimming`, `volleyball`, `tennis`, `soccer`\\n - People own unique car models: `honda civic`, `ford f150`, `tesla model 3`, `chevrolet silverado`, `bmw 3 series`, `toyota camry`\\n\\n## Clues:\\n1. Eric is the person who loves mystery books.\\n2. The person who loves tennis is the person who loves fantasy books.\\n3. The person who loves soccer is directly left of the person who loves science fiction books.\\n4. There is one house between the person who owns a Honda Civic and the person who loves biography books.\\n5. Peter is somewhere to the right of Carol.\\n6. The person who loves tennis is in the first house.\\n7. The person who owns a Tesla Model 3 is somewhere to the right of the person who loves baseball.\\n8. Eric is somewhere to the left of the person who loves romance books.\\n9. The person who owns a Toyota Camry is somewhere to the right of the person who loves romance books.\\n10. The person who owns a BMW 3 Series is Peter.\\n11. The person who owns a BMW 3 Series is the person who loves basketball.\\n12. The person who owns a Tesla Model 3 is directly left of Arnold.\\n13. Alice and the person who loves volleyball are next to each other.\\n14. The person who loves historical fiction books is the person who loves soccer.\\n15. The person who owns a Chevrolet Silverado is not in the first house.\\n16. The person who loves science fiction books is directly left of the person who loves swimming.\\n   \n",
       "\n",
       "                                           question  \\\n",
       "0  What is Name of the person who lives in House 5?   \n",
       "\n",
       "                                    choices answer                  created_at  \n",
       "0  [Eric, Bob, Alice, Peter, Carol, Arnold]    Bob  2024-07-03T21:21:31.375234  "
      ]
     },
     "execution_count": 34,
     "metadata": {},
     "output_type": "execute_result"
    }
   ],
   "source": [
    "private_df.head(1)"
   ]
  },
  {
   "cell_type": "code",
   "execution_count": 35,
   "metadata": {},
   "outputs": [],
   "source": [
    "# Create problem column by combining puzzle, question and choices\n",
    "private_df[\"problem\"] = private_df.apply(\n",
    "    lambda row: f\"{row['puzzle']}\\n\\n{row['question']}\\n\\nSelect from the following options: {row['choices']}\", \n",
    "    axis=1\n",
    ")\n",
    "private_df[\"solution\"] = private_df[\"answer\"]"
   ]
  },
  {
   "cell_type": "code",
   "execution_count": 36,
   "metadata": {},
   "outputs": [
    {
     "data": {
      "text/html": [
       "<div>\n",
       "<style scoped>\n",
       "    .dataframe tbody tr th:only-of-type {\n",
       "        vertical-align: middle;\n",
       "    }\n",
       "\n",
       "    .dataframe tbody tr th {\n",
       "        vertical-align: top;\n",
       "    }\n",
       "\n",
       "    .dataframe thead th {\n",
       "        text-align: right;\n",
       "    }\n",
       "</style>\n",
       "<table border=\"1\" class=\"dataframe\">\n",
       "  <thead>\n",
       "    <tr style=\"text-align: right;\">\n",
       "      <th></th>\n",
       "      <th>id</th>\n",
       "      <th>puzzle</th>\n",
       "      <th>question</th>\n",
       "      <th>choices</th>\n",
       "      <th>answer</th>\n",
       "      <th>created_at</th>\n",
       "      <th>problem</th>\n",
       "    </tr>\n",
       "  </thead>\n",
       "  <tbody>\n",
       "    <tr>\n",
       "      <th>0</th>\n",
       "      <td>lgp-test-6x4-37#mc-16</td>\n",
       "      <td>There are 6 houses, numbered 1 to 6 from left to right, as seen from across the street. Each house is occupied by a different person. Each house has a unique attribute for each of the following characteristics:\\n - Each person has a unique name: `Arnold`, `Peter`, `Eric`, `Alice`, `Bob`, `Carol`\\n - People have unique favorite book genres: `biography`, `science fiction`, `fantasy`, `mystery`, `romance`, `historical fiction`\\n - People have unique favorite sports: `baseball`, `basketball`, `swimming`, `volleyball`, `tennis`, `soccer`\\n - People own unique car models: `honda civic`, `ford f150`, `tesla model 3`, `chevrolet silverado`, `bmw 3 series`, `toyota camry`\\n\\n## Clues:\\n1. Eric is the person who loves mystery books.\\n2. The person who loves tennis is the person who loves fantasy books.\\n3. The person who loves soccer is directly left of the person who loves science fiction books.\\n4. There is one house between the person who owns a Honda Civic and the person who loves biography books.\\n5. Peter is somewhere to the right of Carol.\\n6. The person who loves tennis is in the first house.\\n7. The person who owns a Tesla Model 3 is somewhere to the right of the person who loves baseball.\\n8. Eric is somewhere to the left of the person who loves romance books.\\n9. The person who owns a Toyota Camry is somewhere to the right of the person who loves romance books.\\n10. The person who owns a BMW 3 Series is Peter.\\n11. The person who owns a BMW 3 Series is the person who loves basketball.\\n12. The person who owns a Tesla Model 3 is directly left of Arnold.\\n13. Alice and the person who loves volleyball are next to each other.\\n14. The person who loves historical fiction books is the person who loves soccer.\\n15. The person who owns a Chevrolet Silverado is not in the first house.\\n16. The person who loves science fiction books is directly left of the person who loves swimming.\\n</td>\n",
       "      <td>What is Name of the person who lives in House 5?</td>\n",
       "      <td>[Eric, Bob, Alice, Peter, Carol, Arnold]</td>\n",
       "      <td>Bob</td>\n",
       "      <td>2024-07-03T21:21:31.375234</td>\n",
       "      <td>There are 6 houses, numbered 1 to 6 from left to right, as seen from across the street. Each house is occupied by a different person. Each house has a unique attribute for each of the following characteristics:\\n - Each person has a unique name: `Arnold`, `Peter`, `Eric`, `Alice`, `Bob`, `Carol`\\n - People have unique favorite book genres: `biography`, `science fiction`, `fantasy`, `mystery`, `romance`, `historical fiction`\\n - People have unique favorite sports: `baseball`, `basketball`, `swimming`, `volleyball`, `tennis`, `soccer`\\n - People own unique car models: `honda civic`, `ford f150`, `tesla model 3`, `chevrolet silverado`, `bmw 3 series`, `toyota camry`\\n\\n## Clues:\\n1. Eric is the person who loves mystery books.\\n2. The person who loves tennis is the person who loves fantasy books.\\n3. The person who loves soccer is directly left of the person who loves science fiction books.\\n4. There is one house between the person who owns a Honda Civic and the person who loves biography books.\\n5. Peter is somewhere to the right of Carol.\\n6. The person who loves tennis is in the first house.\\n7. The person who owns a Tesla Model 3 is somewhere to the right of the person who loves baseball.\\n8. Eric is somewhere to the left of the person who loves romance books.\\n9. The person who owns a Toyota Camry is somewhere to the right of the person who loves romance books.\\n10. The person who owns a BMW 3 Series is Peter.\\n11. The person who owns a BMW 3 Series is the person who loves basketball.\\n12. The person who owns a Tesla Model 3 is directly left of Arnold.\\n13. Alice and the person who loves volleyball are next to each other.\\n14. The person who loves historical fiction books is the person who loves soccer.\\n15. The person who owns a Chevrolet Silverado is not in the first house.\\n16. The person who loves science fiction books is directly left of the person who loves swimming.\\n\\n\\nWhat is Name of the person who lives in House 5?\\n\\nOptions: ['Eric', 'Bob', 'Alice', 'Peter', 'Carol', 'Arnold']</td>\n",
       "    </tr>\n",
       "  </tbody>\n",
       "</table>\n",
       "</div>"
      ],
      "text/plain": [
       "                      id  \\\n",
       "0  lgp-test-6x4-37#mc-16   \n",
       "\n",
       "                                                                                                                                                                                                                                                                                                                                                                                                                                                                                                                                                                                                                                                                                                                                                                                                                                                                                                                                                                                                                                                                                                                                                                                                                                                                                                                                                                                                                                                                                                                                                                                                                                                                                                                                                                                                                                                                                                                                                                                 puzzle  \\\n",
       "0  There are 6 houses, numbered 1 to 6 from left to right, as seen from across the street. Each house is occupied by a different person. Each house has a unique attribute for each of the following characteristics:\\n - Each person has a unique name: `Arnold`, `Peter`, `Eric`, `Alice`, `Bob`, `Carol`\\n - People have unique favorite book genres: `biography`, `science fiction`, `fantasy`, `mystery`, `romance`, `historical fiction`\\n - People have unique favorite sports: `baseball`, `basketball`, `swimming`, `volleyball`, `tennis`, `soccer`\\n - People own unique car models: `honda civic`, `ford f150`, `tesla model 3`, `chevrolet silverado`, `bmw 3 series`, `toyota camry`\\n\\n## Clues:\\n1. Eric is the person who loves mystery books.\\n2. The person who loves tennis is the person who loves fantasy books.\\n3. The person who loves soccer is directly left of the person who loves science fiction books.\\n4. There is one house between the person who owns a Honda Civic and the person who loves biography books.\\n5. Peter is somewhere to the right of Carol.\\n6. The person who loves tennis is in the first house.\\n7. The person who owns a Tesla Model 3 is somewhere to the right of the person who loves baseball.\\n8. Eric is somewhere to the left of the person who loves romance books.\\n9. The person who owns a Toyota Camry is somewhere to the right of the person who loves romance books.\\n10. The person who owns a BMW 3 Series is Peter.\\n11. The person who owns a BMW 3 Series is the person who loves basketball.\\n12. The person who owns a Tesla Model 3 is directly left of Arnold.\\n13. Alice and the person who loves volleyball are next to each other.\\n14. The person who loves historical fiction books is the person who loves soccer.\\n15. The person who owns a Chevrolet Silverado is not in the first house.\\n16. The person who loves science fiction books is directly left of the person who loves swimming.\\n   \n",
       "\n",
       "                                           question  \\\n",
       "0  What is Name of the person who lives in House 5?   \n",
       "\n",
       "                                    choices answer  \\\n",
       "0  [Eric, Bob, Alice, Peter, Carol, Arnold]    Bob   \n",
       "\n",
       "                   created_at  \\\n",
       "0  2024-07-03T21:21:31.375234   \n",
       "\n",
       "                                                                                                                                                                                                                                                                                                                                                                                                                                                                                                                                                                                                                                                                                                                                                                                                                                                                                                                                                                                                                                                                                                                                                                                                                                                                                                                                                                                                                                                                                                                                                                                                                                                                                                                                                                                                                                                                                                                                                                                                                                                                                                     problem  \n",
       "0  There are 6 houses, numbered 1 to 6 from left to right, as seen from across the street. Each house is occupied by a different person. Each house has a unique attribute for each of the following characteristics:\\n - Each person has a unique name: `Arnold`, `Peter`, `Eric`, `Alice`, `Bob`, `Carol`\\n - People have unique favorite book genres: `biography`, `science fiction`, `fantasy`, `mystery`, `romance`, `historical fiction`\\n - People have unique favorite sports: `baseball`, `basketball`, `swimming`, `volleyball`, `tennis`, `soccer`\\n - People own unique car models: `honda civic`, `ford f150`, `tesla model 3`, `chevrolet silverado`, `bmw 3 series`, `toyota camry`\\n\\n## Clues:\\n1. Eric is the person who loves mystery books.\\n2. The person who loves tennis is the person who loves fantasy books.\\n3. The person who loves soccer is directly left of the person who loves science fiction books.\\n4. There is one house between the person who owns a Honda Civic and the person who loves biography books.\\n5. Peter is somewhere to the right of Carol.\\n6. The person who loves tennis is in the first house.\\n7. The person who owns a Tesla Model 3 is somewhere to the right of the person who loves baseball.\\n8. Eric is somewhere to the left of the person who loves romance books.\\n9. The person who owns a Toyota Camry is somewhere to the right of the person who loves romance books.\\n10. The person who owns a BMW 3 Series is Peter.\\n11. The person who owns a BMW 3 Series is the person who loves basketball.\\n12. The person who owns a Tesla Model 3 is directly left of Arnold.\\n13. Alice and the person who loves volleyball are next to each other.\\n14. The person who loves historical fiction books is the person who loves soccer.\\n15. The person who owns a Chevrolet Silverado is not in the first house.\\n16. The person who loves science fiction books is directly left of the person who loves swimming.\\n\\n\\nWhat is Name of the person who lives in House 5?\\n\\nOptions: ['Eric', 'Bob', 'Alice', 'Peter', 'Carol', 'Arnold']  "
      ]
     },
     "execution_count": 36,
     "metadata": {},
     "output_type": "execute_result"
    }
   ],
   "source": [
    "private_df.head(1)"
   ]
  },
  {
   "cell_type": "code",
   "execution_count": null,
   "metadata": {},
   "outputs": [],
   "source": []
  }
 ],
 "metadata": {
  "kernelspec": {
   "display_name": "venv",
   "language": "python",
   "name": "python3"
  },
  "language_info": {
   "codemirror_mode": {
    "name": "ipython",
    "version": 3
   },
   "file_extension": ".py",
   "mimetype": "text/x-python",
   "name": "python",
   "nbconvert_exporter": "python",
   "pygments_lexer": "ipython3",
   "version": "3.12.6"
  }
 },
 "nbformat": 4,
 "nbformat_minor": 2
}
