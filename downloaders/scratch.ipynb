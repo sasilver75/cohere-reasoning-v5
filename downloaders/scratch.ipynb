{
 "cells": [
  {
   "cell_type": "code",
   "execution_count": 7,
   "metadata": {},
   "outputs": [],
   "source": [
    "import pandas as pd\n",
    "\n",
    "from datasets import load_dataset"
   ]
  },
  {
   "cell_type": "code",
   "execution_count": null,
   "metadata": {},
   "outputs": [],
   "source": [
    "gsm_df = pd.DataFrame(load_dataset(\"openai/gsm8k\", \"main\")[\"test\"])\n",
    "gsm_symbolic_df = pd.DataFrame(load_dataset(\"apple/GSM-Symbolic\", \"main\")[\"test\"])\n",
    "\n",
    "\n",
    "gsm_symbolic_df.to_csv(\"datasets/original/gsm-symbolic.csv\", index=False)\n",
    "print(f\"Saved to CSV at datasets/original/gsm-symbolic.csv\")\n"
   ]
  }
 ],
 "metadata": {
  "language_info": {
   "name": "python"
  }
 },
 "nbformat": 4,
 "nbformat_minor": 2
}
