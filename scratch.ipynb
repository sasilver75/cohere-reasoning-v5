{
 "cells": [
  {
   "cell_type": "code",
   "execution_count": 2,
   "metadata": {},
   "outputs": [],
   "source": [
    "import pandas as pd\n",
    "\n"
   ]
  },
  {
   "cell_type": "code",
   "execution_count": 3,
   "metadata": {},
   "outputs": [],
   "source": [
    "pd.set_option('display.max_colwidth', None)\n",
    "pd.set_option('display.max_columns', None)\n",
    "pd.set_option('display.width', None)\n"
   ]
  },
  {
   "cell_type": "code",
   "execution_count": 8,
   "metadata": {},
   "outputs": [
    {
     "data": {
      "text/html": [
       "<div>\n",
       "<style scoped>\n",
       "    .dataframe tbody tr th:only-of-type {\n",
       "        vertical-align: middle;\n",
       "    }\n",
       "\n",
       "    .dataframe tbody tr th {\n",
       "        vertical-align: top;\n",
       "    }\n",
       "\n",
       "    .dataframe thead th {\n",
       "        text-align: right;\n",
       "    }\n",
       "</style>\n",
       "<table border=\"1\" class=\"dataframe\">\n",
       "  <thead>\n",
       "    <tr style=\"text-align: right;\">\n",
       "      <th></th>\n",
       "      <th>row_id</th>\n",
       "      <th>problem</th>\n",
       "      <th>ground_truth_reasoning</th>\n",
       "      <th>ground_truth_solution</th>\n",
       "      <th>verified_solution</th>\n",
       "      <th>prefix</th>\n",
       "    </tr>\n",
       "  </thead>\n",
       "  <tbody>\n",
       "    <tr>\n",
       "      <th>0</th>\n",
       "      <td>23</td>\n",
       "      <td>A candle melts by 2 centimeters every hour that it burns. How many centimeters shorter will a candle be after burning from 1:00 PM to 5:00 PM?</td>\n",
       "      <td>The candle burns for 5 - 1 = &lt;&lt;5-1=4&gt;&gt;4 hours.\\nThus, the candle will be 2 * 4 = &lt;&lt;2*4=8&gt;&gt;8 centimeters shorter.</td>\n",
       "      <td>8</td>\n",
       "      <td>To find out how many centimeters shorter the candle will be after burning from 1:00 PM to 5:00 PM, we need to calculate the total number of hours it burns and then multiply that by the rate at which it melts.\\n\\n1. First, determine the total burning time: From 1:00 PM to 5:00 PM is 4 hours.\\n2. The candle melts at a rate of 2 centimeters per hour.\\n3. Multiply the total burning time by the melting rate to find the total shortening: 4 hours * 2 centimeters/hour = 8 centimeters.\\n\\nTherefore, the candle will be 8 centimeters shorter after burning from 1:00 PM to 5:00 PM.</td>\n",
       "      <td>Placeholder</td>\n",
       "    </tr>\n",
       "    <tr>\n",
       "      <th>1</th>\n",
       "      <td>1</td>\n",
       "      <td>A robe takes 2 bolts of blue fiber and half that much white fiber.  How many bolts in total does it take?</td>\n",
       "      <td>It takes 2/2=&lt;&lt;2/2=1&gt;&gt;1 bolt of white fiber\\nSo the total amount of fabric is 2+1=&lt;&lt;2+1=3&gt;&gt;3 bolts of fabric</td>\n",
       "      <td>3</td>\n",
       "      <td>To find the total number of bolts needed for the robe, we first need to calculate the amount of white fiber required, since it's based on the amount of blue fiber.\\n\\n1. The robe takes 2 bolts of blue fiber.\\n2. It takes half as much white fiber as blue fiber. So, for the white fiber, we calculate half of 2 bolts, which is 2 / 2 = 1 bolt of white fiber.\\n\\nNow, we add the bolts of blue and white fiber together to get the total:\\n\\n- Blue fiber: 2 bolts\\n- White fiber: 1 bolt\\n- Total = 2 + 1 = 3 bolts\\n\\nTherefore, it takes a total of 3 bolts of fiber to make the robe.</td>\n",
       "      <td>Placeholder</td>\n",
       "    </tr>\n",
       "    <tr>\n",
       "      <th>2</th>\n",
       "      <td>22</td>\n",
       "      <td>Billy sells DVDs. He has 8 customers on Tuesday. His first 3 customers buy one DVD each.  His next 2 customers buy 2 DVDs each.  His last 3 customers don't buy any DVDs. How many DVDs did Billy sell on Tuesday?</td>\n",
       "      <td>His first 3 customers buy 3 * 1 = &lt;&lt;3*1=3&gt;&gt;3 DVDs.\\nHis next 2 buy 2 * 2 = &lt;&lt;2*2=4&gt;&gt;4 DVDs.\\nHe sells a total of 3 + 4 + 0 = &lt;&lt;3+4+0=7&gt;&gt;7 DVDs.</td>\n",
       "      <td>7</td>\n",
       "      <td>To find out how many DVDs Billy sold on Tuesday, we need to calculate the total number of DVDs bought by his customers.\\n\\n1. The first 3 customers buy one DVD each, so they bought 3 * 1 = 3 DVDs.\\n2. The next 2 customers buy 2 DVDs each, so they bought 2 * 2 = 4 DVDs.\\n3. The last 3 customers don't buy any DVDs, so they bought 3 * 0 = 0 DVDs.\\n\\nNow, we add up the DVDs bought by all the customers: 3 + 4 + 0 = 7 DVDs.\\n\\nTherefore, Billy sold 7 DVDs on Tuesday.</td>\n",
       "      <td>Placeholder</td>\n",
       "    </tr>\n",
       "  </tbody>\n",
       "</table>\n",
       "</div>"
      ],
      "text/plain": [
       "   row_id  \\\n",
       "0      23   \n",
       "1       1   \n",
       "2      22   \n",
       "\n",
       "                                                                                                                                                                                                              problem  \\\n",
       "0                                                                      A candle melts by 2 centimeters every hour that it burns. How many centimeters shorter will a candle be after burning from 1:00 PM to 5:00 PM?   \n",
       "1                                                                                                           A robe takes 2 bolts of blue fiber and half that much white fiber.  How many bolts in total does it take?   \n",
       "2  Billy sells DVDs. He has 8 customers on Tuesday. His first 3 customers buy one DVD each.  His next 2 customers buy 2 DVDs each.  His last 3 customers don't buy any DVDs. How many DVDs did Billy sell on Tuesday?   \n",
       "\n",
       "                                                                                                                            ground_truth_reasoning  \\\n",
       "0                                 The candle burns for 5 - 1 = <<5-1=4>>4 hours.\\nThus, the candle will be 2 * 4 = <<2*4=8>>8 centimeters shorter.   \n",
       "1                                     It takes 2/2=<<2/2=1>>1 bolt of white fiber\\nSo the total amount of fabric is 2+1=<<2+1=3>>3 bolts of fabric   \n",
       "2  His first 3 customers buy 3 * 1 = <<3*1=3>>3 DVDs.\\nHis next 2 buy 2 * 2 = <<2*2=4>>4 DVDs.\\nHe sells a total of 3 + 4 + 0 = <<3+4+0=7>>7 DVDs.   \n",
       "\n",
       "   ground_truth_solution  \\\n",
       "0                      8   \n",
       "1                      3   \n",
       "2                      7   \n",
       "\n",
       "                                                                                                                                                                                                                                                                                                                                                                                                                                                                                                                                                                                 verified_solution  \\\n",
       "0  To find out how many centimeters shorter the candle will be after burning from 1:00 PM to 5:00 PM, we need to calculate the total number of hours it burns and then multiply that by the rate at which it melts.\\n\\n1. First, determine the total burning time: From 1:00 PM to 5:00 PM is 4 hours.\\n2. The candle melts at a rate of 2 centimeters per hour.\\n3. Multiply the total burning time by the melting rate to find the total shortening: 4 hours * 2 centimeters/hour = 8 centimeters.\\n\\nTherefore, the candle will be 8 centimeters shorter after burning from 1:00 PM to 5:00 PM.   \n",
       "1  To find the total number of bolts needed for the robe, we first need to calculate the amount of white fiber required, since it's based on the amount of blue fiber.\\n\\n1. The robe takes 2 bolts of blue fiber.\\n2. It takes half as much white fiber as blue fiber. So, for the white fiber, we calculate half of 2 bolts, which is 2 / 2 = 1 bolt of white fiber.\\n\\nNow, we add the bolts of blue and white fiber together to get the total:\\n\\n- Blue fiber: 2 bolts\\n- White fiber: 1 bolt\\n- Total = 2 + 1 = 3 bolts\\n\\nTherefore, it takes a total of 3 bolts of fiber to make the robe.   \n",
       "2                                                                                                                To find out how many DVDs Billy sold on Tuesday, we need to calculate the total number of DVDs bought by his customers.\\n\\n1. The first 3 customers buy one DVD each, so they bought 3 * 1 = 3 DVDs.\\n2. The next 2 customers buy 2 DVDs each, so they bought 2 * 2 = 4 DVDs.\\n3. The last 3 customers don't buy any DVDs, so they bought 3 * 0 = 0 DVDs.\\n\\nNow, we add up the DVDs bought by all the customers: 3 + 4 + 0 = 7 DVDs.\\n\\nTherefore, Billy sold 7 DVDs on Tuesday.   \n",
       "\n",
       "        prefix  \n",
       "0  Placeholder  \n",
       "1  Placeholder  \n",
       "2  Placeholder  "
      ]
     },
     "execution_count": 8,
     "metadata": {},
     "output_type": "execute_result"
    }
   ],
   "source": [
    "df = pd.read_csv(\"gsm8k/datasets/gsm8k_solutions_and_prefixes.csv\")\n",
    "\n",
    "df.head(3)\n"
   ]
  },
  {
   "cell_type": "code",
   "execution_count": 9,
   "metadata": {},
   "outputs": [
    {
     "name": "stdout",
     "output_type": "stream",
     "text": [
      "Average length of ground truth reasoning: 308.96 characters\n",
      "Average length of verified solutions: 982.28 characters\n"
     ]
    }
   ],
   "source": [
    "# Calculate average lengths\n",
    "avg_ground_truth_len = df['ground_truth_reasoning'].str.len().mean()\n",
    "avg_verified_len = df['verified_solution'].str.len().mean()\n",
    "\n",
    "print(f\"Average length of ground truth reasoning: {avg_ground_truth_len:.2f} characters\")\n",
    "print(f\"Average length of verified solutions: {avg_verified_len:.2f} characters\")\n"
   ]
  }
 ],
 "metadata": {
  "kernelspec": {
   "display_name": "venv",
   "language": "python",
   "name": "python3"
  },
  "language_info": {
   "codemirror_mode": {
    "name": "ipython",
    "version": 3
   },
   "file_extension": ".py",
   "mimetype": "text/x-python",
   "name": "python",
   "nbconvert_exporter": "python",
   "pygments_lexer": "ipython3",
   "version": "3.12.6"
  }
 },
 "nbformat": 4,
 "nbformat_minor": 2
}
