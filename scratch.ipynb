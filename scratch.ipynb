{
 "cells": [
  {
   "cell_type": "code",
   "execution_count": 19,
   "metadata": {},
   "outputs": [],
   "source": [
    "import pandas as pd\n",
    "\n"
   ]
  },
  {
   "cell_type": "code",
   "execution_count": 27,
   "metadata": {},
   "outputs": [],
   "source": [
    "pd.set_option('display.max_colwidth', None)\n",
    "pd.set_option('display.max_columns', None)\n",
    "pd.set_option('display.width', None)\n"
   ]
  },
  {
   "cell_type": "code",
   "execution_count": 29,
   "metadata": {},
   "outputs": [
    {
     "data": {
      "text/html": [
       "<div>\n",
       "<style scoped>\n",
       "    .dataframe tbody tr th:only-of-type {\n",
       "        vertical-align: middle;\n",
       "    }\n",
       "\n",
       "    .dataframe tbody tr th {\n",
       "        vertical-align: top;\n",
       "    }\n",
       "\n",
       "    .dataframe thead th {\n",
       "        text-align: right;\n",
       "    }\n",
       "</style>\n",
       "<table border=\"1\" class=\"dataframe\">\n",
       "  <thead>\n",
       "    <tr style=\"text-align: right;\">\n",
       "      <th></th>\n",
       "      <th>row_id</th>\n",
       "      <th>problem</th>\n",
       "      <th>solution</th>\n",
       "    </tr>\n",
       "  </thead>\n",
       "  <tbody>\n",
       "    <tr>\n",
       "      <th>0</th>\n",
       "      <td>0</td>\n",
       "      <td>There are 6 houses, numbered 1 to 6 from left to right, as seen from across the street. Each house is occupied by a different person. Each house has a unique attribute for each of the following characteristics:\\n - Each person has a unique name: `Arnold`, `Peter`, `Eric`, `Alice`, `Bob`, `Carol`\\n - People have unique favorite book genres: `biography`, `science fiction`, `fantasy`, `mystery`, `romance`, `historical fiction`\\n - People have unique favorite sports: `baseball`, `basketball`, `swimming`, `volleyball`, `tennis`, `soccer`\\n - People own unique car models: `honda civic`, `ford f150`, `tesla model 3`, `chevrolet silverado`, `bmw 3 series`, `toyota camry`\\n\\n## Clues:\\n1. Eric is the person who loves mystery books.\\n2. The person who loves tennis is the person who loves fantasy books.\\n3. The person who loves soccer is directly left of the person who loves science fiction books.\\n4. There is one house between the person who owns a Honda Civic and the person who loves biography books.\\n5. Peter is somewhere to the right of Carol.\\n6. The person who loves tennis is in the first house.\\n7. The person who owns a Tesla Model 3 is somewhere to the right of the person who loves baseball.\\n8. Eric is somewhere to the left of the person who loves romance books.\\n9. The person who owns a Toyota Camry is somewhere to the right of the person who loves romance books.\\n10. The person who owns a BMW 3 Series is Peter.\\n11. The person who owns a BMW 3 Series is the person who loves basketball.\\n12. The person who owns a Tesla Model 3 is directly left of Arnold.\\n13. Alice and the person who loves volleyball are next to each other.\\n14. The person who loves historical fiction books is the person who loves soccer.\\n15. The person who owns a Chevrolet Silverado is not in the first house.\\n16. The person who loves science fiction books is directly left of the person who loves swimming.\\n\\n\\n Question: What is Name of the person who lives in House 5?\\n\\nSelect from the following options: ['Eric', 'Bob', 'Alice', 'Peter', 'Carol', 'Arnold']</td>\n",
       "      <td>Bob</td>\n",
       "    </tr>\n",
       "    <tr>\n",
       "      <th>1</th>\n",
       "      <td>1</td>\n",
       "      <td>There are 3 houses, numbered 1 to 3 from left to right, as seen from across the street. Each house is occupied by a different person. Each house has a unique attribute for each of the following characteristics:\\n - Each person has a unique name: `Eric`, `Peter`, `Arnold`\\n - Each person has a unique level of education: `associate`, `high school`, `bachelor`\\n - Each person prefers a unique type of vacation: `city`, `beach`, `mountain`\\n - People have unique favorite music genres: `classical`, `rock`, `pop`\\n - Each person has an occupation: `engineer`, `doctor`, `teacher`\\n - People have unique favorite sports: `tennis`, `basketball`, `soccer`\\n\\n## Clues:\\n1. Peter is in the first house.\\n2. The person with a high school diploma is directly left of the person who loves beach vacations.\\n3. The person who is a doctor is not in the third house.\\n4. The person who loves rock music and the person who loves pop music are next to each other.\\n5. The person who is a teacher is the person who enjoys mountain retreats.\\n6. Peter is the person with a bachelor's degree.\\n7. The person who prefers city breaks is the person who loves rock music.\\n8. The person who loves basketball is the person who enjoys mountain retreats.\\n9. Eric is in the third house.\\n10. The person with a bachelor's degree is the person who loves tennis.\\n\\n\\n Question: What is Education of the person who lives in House 3?\\n\\nSelect from the following options: ['associate', 'high school', 'bachelor']</td>\n",
       "      <td>associate</td>\n",
       "    </tr>\n",
       "    <tr>\n",
       "      <th>2</th>\n",
       "      <td>2</td>\n",
       "      <td>There are 4 houses, numbered 1 to 4 from left to right, as seen from across the street. Each house is occupied by a different person. Each house has a unique attribute for each of the following characteristics:\\n - Each person has a unique name: `Arnold`, `Eric`, `Peter`, `Alice`\\n - The mothers' names in different houses are unique: `Holly`, `Janelle`, `Kailyn`, `Aniya`\\n - The people are of nationalities: `dane`, `norwegian`, `brit`, `swede`\\n - People have unique favorite book genres: `science fiction`, `romance`, `fantasy`, `mystery`\\n - The people keep unique animals: `fish`, `cat`, `bird`, `horse`\\n - People have unique hair colors: `black`, `blonde`, `red`, `brown`\\n\\n## Clues:\\n1. The Swedish person is the person who has black hair.\\n2. The bird keeper is in the first house.\\n3. Arnold is the person who loves fantasy books.\\n4. The person who loves science fiction books is not in the second house.\\n5. The British person and Arnold are next to each other.\\n6. The bird keeper is the person who has red hair.\\n7. The person who keeps horses is Peter.\\n8. The person who has black hair is the person who loves romance books.\\n9. The person whose mother's name is Kailyn is Arnold.\\n10. The Swedish person is The person whose mother's name is Janelle.\\n11. The person who has blonde hair is in the third house.\\n12. Alice is The person whose mother's name is Aniya.\\n13. The Swedish person is the fish enthusiast.\\n14. Arnold is directly left of the person who has black hair.\\n15. The Norwegian is not in the first house.\\n\\n\\n Question: What is BookGenre of the person who lives in House 2?\\n\\nSelect from the following options: ['science fiction', 'mystery', 'romance', 'fantasy']</td>\n",
       "      <td>mystery</td>\n",
       "    </tr>\n",
       "  </tbody>\n",
       "</table>\n",
       "</div>"
      ],
      "text/plain": [
       "   row_id  \\\n",
       "0       0   \n",
       "1       1   \n",
       "2       2   \n",
       "\n",
       "                                                                                                                                                                                                                                                                                                                                                                                                                                                                                                                                                                                                                                                                                                                                                                                                                                                                                                                                                                                                                                                                                                                                                                                                                                                                                                                                                                                                                                                                                                                                                                                                                                                                                                                                                                                                                                                                                                                                                                                                                                                                                                                                          problem  \\\n",
       "0  There are 6 houses, numbered 1 to 6 from left to right, as seen from across the street. Each house is occupied by a different person. Each house has a unique attribute for each of the following characteristics:\\n - Each person has a unique name: `Arnold`, `Peter`, `Eric`, `Alice`, `Bob`, `Carol`\\n - People have unique favorite book genres: `biography`, `science fiction`, `fantasy`, `mystery`, `romance`, `historical fiction`\\n - People have unique favorite sports: `baseball`, `basketball`, `swimming`, `volleyball`, `tennis`, `soccer`\\n - People own unique car models: `honda civic`, `ford f150`, `tesla model 3`, `chevrolet silverado`, `bmw 3 series`, `toyota camry`\\n\\n## Clues:\\n1. Eric is the person who loves mystery books.\\n2. The person who loves tennis is the person who loves fantasy books.\\n3. The person who loves soccer is directly left of the person who loves science fiction books.\\n4. There is one house between the person who owns a Honda Civic and the person who loves biography books.\\n5. Peter is somewhere to the right of Carol.\\n6. The person who loves tennis is in the first house.\\n7. The person who owns a Tesla Model 3 is somewhere to the right of the person who loves baseball.\\n8. Eric is somewhere to the left of the person who loves romance books.\\n9. The person who owns a Toyota Camry is somewhere to the right of the person who loves romance books.\\n10. The person who owns a BMW 3 Series is Peter.\\n11. The person who owns a BMW 3 Series is the person who loves basketball.\\n12. The person who owns a Tesla Model 3 is directly left of Arnold.\\n13. Alice and the person who loves volleyball are next to each other.\\n14. The person who loves historical fiction books is the person who loves soccer.\\n15. The person who owns a Chevrolet Silverado is not in the first house.\\n16. The person who loves science fiction books is directly left of the person who loves swimming.\\n\\n\\n Question: What is Name of the person who lives in House 5?\\n\\nSelect from the following options: ['Eric', 'Bob', 'Alice', 'Peter', 'Carol', 'Arnold']   \n",
       "1                                                                                                                                                                                                                                                                                                                                                                                                                                                                                                                                                                                                   There are 3 houses, numbered 1 to 3 from left to right, as seen from across the street. Each house is occupied by a different person. Each house has a unique attribute for each of the following characteristics:\\n - Each person has a unique name: `Eric`, `Peter`, `Arnold`\\n - Each person has a unique level of education: `associate`, `high school`, `bachelor`\\n - Each person prefers a unique type of vacation: `city`, `beach`, `mountain`\\n - People have unique favorite music genres: `classical`, `rock`, `pop`\\n - Each person has an occupation: `engineer`, `doctor`, `teacher`\\n - People have unique favorite sports: `tennis`, `basketball`, `soccer`\\n\\n## Clues:\\n1. Peter is in the first house.\\n2. The person with a high school diploma is directly left of the person who loves beach vacations.\\n3. The person who is a doctor is not in the third house.\\n4. The person who loves rock music and the person who loves pop music are next to each other.\\n5. The person who is a teacher is the person who enjoys mountain retreats.\\n6. Peter is the person with a bachelor's degree.\\n7. The person who prefers city breaks is the person who loves rock music.\\n8. The person who loves basketball is the person who enjoys mountain retreats.\\n9. Eric is in the third house.\\n10. The person with a bachelor's degree is the person who loves tennis.\\n\\n\\n Question: What is Education of the person who lives in House 3?\\n\\nSelect from the following options: ['associate', 'high school', 'bachelor']   \n",
       "2                                                                                                                                                                                                                                                                                                                                                                           There are 4 houses, numbered 1 to 4 from left to right, as seen from across the street. Each house is occupied by a different person. Each house has a unique attribute for each of the following characteristics:\\n - Each person has a unique name: `Arnold`, `Eric`, `Peter`, `Alice`\\n - The mothers' names in different houses are unique: `Holly`, `Janelle`, `Kailyn`, `Aniya`\\n - The people are of nationalities: `dane`, `norwegian`, `brit`, `swede`\\n - People have unique favorite book genres: `science fiction`, `romance`, `fantasy`, `mystery`\\n - The people keep unique animals: `fish`, `cat`, `bird`, `horse`\\n - People have unique hair colors: `black`, `blonde`, `red`, `brown`\\n\\n## Clues:\\n1. The Swedish person is the person who has black hair.\\n2. The bird keeper is in the first house.\\n3. Arnold is the person who loves fantasy books.\\n4. The person who loves science fiction books is not in the second house.\\n5. The British person and Arnold are next to each other.\\n6. The bird keeper is the person who has red hair.\\n7. The person who keeps horses is Peter.\\n8. The person who has black hair is the person who loves romance books.\\n9. The person whose mother's name is Kailyn is Arnold.\\n10. The Swedish person is The person whose mother's name is Janelle.\\n11. The person who has blonde hair is in the third house.\\n12. Alice is The person whose mother's name is Aniya.\\n13. The Swedish person is the fish enthusiast.\\n14. Arnold is directly left of the person who has black hair.\\n15. The Norwegian is not in the first house.\\n\\n\\n Question: What is BookGenre of the person who lives in House 2?\\n\\nSelect from the following options: ['science fiction', 'mystery', 'romance', 'fantasy']   \n",
       "\n",
       "    solution  \n",
       "0        Bob  \n",
       "1  associate  \n",
       "2    mystery  "
      ]
     },
     "execution_count": 29,
     "metadata": {},
     "output_type": "execute_result"
    }
   ],
   "source": [
    "df = pd.read_csv(\"datasets/original/zebralogic_mc.csv\")\n",
    "df.head(3)"
   ]
  },
  {
   "cell_type": "code",
   "execution_count": null,
   "metadata": {},
   "outputs": [],
   "source": []
  },
  {
   "cell_type": "code",
   "execution_count": null,
   "metadata": {},
   "outputs": [],
   "source": []
  }
 ],
 "metadata": {
  "kernelspec": {
   "display_name": "venv",
   "language": "python",
   "name": "python3"
  },
  "language_info": {
   "codemirror_mode": {
    "name": "ipython",
    "version": 3
   },
   "file_extension": ".py",
   "mimetype": "text/x-python",
   "name": "python",
   "nbconvert_exporter": "python",
   "pygments_lexer": "ipython3",
   "version": "3.12.6"
  }
 },
 "nbformat": 4,
 "nbformat_minor": 2
}
