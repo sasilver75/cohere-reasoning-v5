{
 "cells": [
  {
   "cell_type": "code",
   "execution_count": 1,
   "metadata": {},
   "outputs": [],
   "source": [
    "import pandas as pd"
   ]
  },
  {
   "cell_type": "code",
   "execution_count": 4,
   "metadata": {},
   "outputs": [
    {
     "data": {
      "text/html": [
       "<div>\n",
       "<style scoped>\n",
       "    .dataframe tbody tr th:only-of-type {\n",
       "        vertical-align: middle;\n",
       "    }\n",
       "\n",
       "    .dataframe tbody tr th {\n",
       "        vertical-align: top;\n",
       "    }\n",
       "\n",
       "    .dataframe thead th {\n",
       "        text-align: right;\n",
       "    }\n",
       "</style>\n",
       "<table border=\"1\" class=\"dataframe\">\n",
       "  <thead>\n",
       "    <tr style=\"text-align: right;\">\n",
       "      <th></th>\n",
       "      <th>source</th>\n",
       "      <th>problem</th>\n",
       "      <th>solution</th>\n",
       "      <th>messages</th>\n",
       "      <th>set</th>\n",
       "      <th>id</th>\n",
       "    </tr>\n",
       "  </thead>\n",
       "  <tbody>\n",
       "    <tr>\n",
       "      <th>0</th>\n",
       "      <td>cn_k12</td>\n",
       "      <td>The integer part $a=$______ and the decimal pa...</td>\n",
       "      <td>To solve for the integer part $a$ and the deci...</td>\n",
       "      <td>[{'content': 'The integer part $a=$______ and ...</td>\n",
       "      <td>train</td>\n",
       "      <td>0</td>\n",
       "    </tr>\n",
       "    <tr>\n",
       "      <th>1</th>\n",
       "      <td>cn_k12</td>\n",
       "      <td>If the point $(-1,2)$ lies on the graph of the...</td>\n",
       "      <td>Given that the point $(-1,2)$ lies on the grap...</td>\n",
       "      <td>[{'content': 'If the point $(-1,2)$ lies on th...</td>\n",
       "      <td>train</td>\n",
       "      <td>1</td>\n",
       "    </tr>\n",
       "    <tr>\n",
       "      <th>2</th>\n",
       "      <td>cn_k12</td>\n",
       "      <td>Among the following phenomena in life, the one...</td>\n",
       "      <td>To analyze which of the given phenomena belong...</td>\n",
       "      <td>[{'content': 'Among the following phenomena in...</td>\n",
       "      <td>train</td>\n",
       "      <td>2</td>\n",
       "    </tr>\n",
       "    <tr>\n",
       "      <th>3</th>\n",
       "      <td>cn_k12</td>\n",
       "      <td>Given proposition p: For all $x \\in \\mathbb{R}...</td>\n",
       "      <td>**Solution**: Proposition p: For all $x \\in \\m...</td>\n",
       "      <td>[{'content': 'Given proposition p: For all $x ...</td>\n",
       "      <td>train</td>\n",
       "      <td>3</td>\n",
       "    </tr>\n",
       "    <tr>\n",
       "      <th>4</th>\n",
       "      <td>cn_k12</td>\n",
       "      <td>Simplify first, then evaluate: $3a^2b+2(ab-\\fr...</td>\n",
       "      <td>To simplify and then evaluate the given expres...</td>\n",
       "      <td>[{'content': 'Simplify first, then evaluate: $...</td>\n",
       "      <td>train</td>\n",
       "      <td>4</td>\n",
       "    </tr>\n",
       "  </tbody>\n",
       "</table>\n",
       "</div>"
      ],
      "text/plain": [
       "   source                                            problem  \\\n",
       "0  cn_k12  The integer part $a=$______ and the decimal pa...   \n",
       "1  cn_k12  If the point $(-1,2)$ lies on the graph of the...   \n",
       "2  cn_k12  Among the following phenomena in life, the one...   \n",
       "3  cn_k12  Given proposition p: For all $x \\in \\mathbb{R}...   \n",
       "4  cn_k12  Simplify first, then evaluate: $3a^2b+2(ab-\\fr...   \n",
       "\n",
       "                                            solution  \\\n",
       "0  To solve for the integer part $a$ and the deci...   \n",
       "1  Given that the point $(-1,2)$ lies on the grap...   \n",
       "2  To analyze which of the given phenomena belong...   \n",
       "3  **Solution**: Proposition p: For all $x \\in \\m...   \n",
       "4  To simplify and then evaluate the given expres...   \n",
       "\n",
       "                                            messages    set  id  \n",
       "0  [{'content': 'The integer part $a=$______ and ...  train   0  \n",
       "1  [{'content': 'If the point $(-1,2)$ lies on th...  train   1  \n",
       "2  [{'content': 'Among the following phenomena in...  train   2  \n",
       "3  [{'content': 'Given proposition p: For all $x ...  train   3  \n",
       "4  [{'content': 'Simplify first, then evaluate: $...  train   4  "
      ]
     },
     "execution_count": 4,
     "metadata": {},
     "output_type": "execute_result"
    }
   ],
   "source": [
    "df = pd.read_csv(\"datasets/original/cn_k12_math_problems.csv\")\n",
    "df.head()"
   ]
  }
 ],
 "metadata": {
  "kernelspec": {
   "display_name": "venv",
   "language": "python",
   "name": "python3"
  },
  "language_info": {
   "codemirror_mode": {
    "name": "ipython",
    "version": 3
   },
   "file_extension": ".py",
   "mimetype": "text/x-python",
   "name": "python",
   "nbconvert_exporter": "python",
   "pygments_lexer": "ipython3",
   "version": "3.12.6"
  }
 },
 "nbformat": 4,
 "nbformat_minor": 2
}
