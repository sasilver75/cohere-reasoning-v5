{
 "cells": [
  {
   "cell_type": "code",
   "execution_count": 1,
   "metadata": {},
   "outputs": [
    {
     "name": "stderr",
     "output_type": "stream",
     "text": [
      "/home/sam/code/cohere/cohere-reasoning-v5/venv/lib/python3.12/site-packages/tqdm/auto.py:21: TqdmWarning: IProgress not found. Please update jupyter and ipywidgets. See https://ipywidgets.readthedocs.io/en/stable/user_install.html\n",
      "  from .autonotebook import tqdm as notebook_tqdm\n"
     ]
    }
   ],
   "source": [
    "import pandas as pd\n",
    "from datasets import load_dataset\n",
    "import os"
   ]
  },
  {
   "cell_type": "code",
   "execution_count": 2,
   "metadata": {},
   "outputs": [
    {
     "data": {
      "text/plain": [
       "'/home/sam/code/cohere/cohere-reasoning-v5/gsm8k/downloaders'"
      ]
     },
     "execution_count": 2,
     "metadata": {},
     "output_type": "execute_result"
    }
   ],
   "source": [
    "os.getcwd()"
   ]
  },
  {
   "cell_type": "code",
   "execution_count": 3,
   "metadata": {},
   "outputs": [
    {
     "data": {
      "text/html": [
       "<div>\n",
       "<style scoped>\n",
       "    .dataframe tbody tr th:only-of-type {\n",
       "        vertical-align: middle;\n",
       "    }\n",
       "\n",
       "    .dataframe tbody tr th {\n",
       "        vertical-align: top;\n",
       "    }\n",
       "\n",
       "    .dataframe thead th {\n",
       "        text-align: right;\n",
       "    }\n",
       "</style>\n",
       "<table border=\"1\" class=\"dataframe\">\n",
       "  <thead>\n",
       "    <tr style=\"text-align: right;\">\n",
       "      <th></th>\n",
       "      <th>problem_id</th>\n",
       "      <th>problem</th>\n",
       "      <th>answer</th>\n",
       "      <th>solution_model</th>\n",
       "      <th>solution_model_provider</th>\n",
       "      <th>solution</th>\n",
       "      <th>solution_verified</th>\n",
       "    </tr>\n",
       "  </thead>\n",
       "  <tbody>\n",
       "    <tr>\n",
       "      <th>0</th>\n",
       "      <td>0</td>\n",
       "      <td>Toula went to the bakery and bought various ty...</td>\n",
       "      <td>694</td>\n",
       "      <td>command-r7b-12-2024</td>\n",
       "      <td>Cohere</td>\n",
       "      <td>To find the total cost of the pastries, we nee...</td>\n",
       "      <td>True</td>\n",
       "    </tr>\n",
       "    <tr>\n",
       "      <th>1</th>\n",
       "      <td>1</td>\n",
       "      <td>I have 10 liters of orange drink that are two-...</td>\n",
       "      <td>15</td>\n",
       "      <td>command-r7b-12-2024</td>\n",
       "      <td>Cohere</td>\n",
       "      <td>To solve this problem, we need to determine th...</td>\n",
       "      <td>True</td>\n",
       "    </tr>\n",
       "  </tbody>\n",
       "</table>\n",
       "</div>"
      ],
      "text/plain": [
       "   problem_id                                            problem  answer  \\\n",
       "0           0  Toula went to the bakery and bought various ty...     694   \n",
       "1           1  I have 10 liters of orange drink that are two-...      15   \n",
       "\n",
       "        solution_model solution_model_provider  \\\n",
       "0  command-r7b-12-2024                  Cohere   \n",
       "1  command-r7b-12-2024                  Cohere   \n",
       "\n",
       "                                            solution  solution_verified  \n",
       "0  To find the total cost of the pastries, we nee...               True  \n",
       "1  To solve this problem, we need to determine th...               True  "
      ]
     },
     "execution_count": 3,
     "metadata": {},
     "output_type": "execute_result"
    }
   ],
   "source": [
    "df = pd.read_csv(\"../datasets/gsm8k_straight_shot_solutions.csv\")\n",
    "df.head(2)"
   ]
  },
  {
   "cell_type": "code",
   "execution_count": 5,
   "metadata": {},
   "outputs": [
    {
     "name": "stdout",
     "output_type": "stream",
     "text": [
      "\n",
      "Number of records per solution model:\n",
      "solution_model\n",
      "command-r7b-12-2024                  100\n",
      "google/gemma-2-27b-it                100\n",
      "meta-llama/llama-3.3-70b-instruct    100\n",
      "mistralai/mistral-nemo               100\n",
      "qwen/qwen-2.5-72b-instruct           100\n",
      "qwen/qwq-32b-preview                 100\n",
      "Name: count, dtype: int64\n"
     ]
    }
   ],
   "source": [
    "# Count records per solution model\n",
    "model_counts = df['solution_model'].value_counts()\n",
    "print(\"\\nNumber of records per solution model:\")\n",
    "print(model_counts)"
   ]
  },
  {
   "cell_type": "code",
   "execution_count": 6,
   "metadata": {},
   "outputs": [
    {
     "name": "stdout",
     "output_type": "stream",
     "text": [
      "\n",
      "Percentage of verified solutions per model:\n",
      "solution_model\n",
      "command-r7b-12-2024                  94.0%\n",
      "google/gemma-2-27b-it                90.0%\n",
      "meta-llama/llama-3.3-70b-instruct    96.0%\n",
      "mistralai/mistral-nemo               89.0%\n",
      "qwen/qwen-2.5-72b-instruct           95.0%\n",
      "qwen/qwq-32b-preview                 94.0%\n",
      "Name: solution_verified, dtype: object\n"
     ]
    }
   ],
   "source": [
    "# Calculate percentage of verified solutions per model\n",
    "verification_rates = df.groupby('solution_model')['solution_verified'].mean() * 100\n",
    "\n",
    "print(\"\\nPercentage of verified solutions per model:\")\n",
    "print(verification_rates.round(2).astype(str) + '%')\n"
   ]
  }
 ],
 "metadata": {
  "kernelspec": {
   "display_name": "venv",
   "language": "python",
   "name": "python3"
  },
  "language_info": {
   "codemirror_mode": {
    "name": "ipython",
    "version": 3
   },
   "file_extension": ".py",
   "mimetype": "text/x-python",
   "name": "python",
   "nbconvert_exporter": "python",
   "pygments_lexer": "ipython3",
   "version": "3.12.6"
  }
 },
 "nbformat": 4,
 "nbformat_minor": 2
}
