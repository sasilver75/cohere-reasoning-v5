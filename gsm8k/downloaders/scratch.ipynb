{
 "cells": [
  {
   "cell_type": "code",
   "execution_count": 19,
   "metadata": {},
   "outputs": [
    {
     "name": "stderr",
     "output_type": "stream",
     "text": [
      "/home/sam/code/cohere/cohere-reasoning-v5/venv/lib/python3.12/site-packages/tqdm/auto.py:21: TqdmWarning: IProgress not found. Please update jupyter and ipywidgets. See https://ipywidgets.readthedocs.io/en/stable/user_install.html\n",
      "  from .autonotebook import tqdm as notebook_tqdm\n"
     ]
    }
   ],
   "source": [
    "import pandas as pd\n",
    "from datasets import load_dataset\n",
    "import os"
   ]
  },
  {
   "cell_type": "code",
   "execution_count": 2,
   "metadata": {},
   "outputs": [
    {
     "data": {
      "text/plain": [
       "'/home/sam/code/cohere/cohere-reasoning-v5/gsm8k/downloaders'"
      ]
     },
     "execution_count": 2,
     "metadata": {},
     "output_type": "execute_result"
    }
   ],
   "source": [
    "os.getcwd()"
   ]
  },
  {
   "cell_type": "code",
   "execution_count": 3,
   "metadata": {},
   "outputs": [
    {
     "data": {
      "text/html": [
       "<div>\n",
       "<style scoped>\n",
       "    .dataframe tbody tr th:only-of-type {\n",
       "        vertical-align: middle;\n",
       "    }\n",
       "\n",
       "    .dataframe tbody tr th {\n",
       "        vertical-align: top;\n",
       "    }\n",
       "\n",
       "    .dataframe thead th {\n",
       "        text-align: right;\n",
       "    }\n",
       "</style>\n",
       "<table border=\"1\" class=\"dataframe\">\n",
       "  <thead>\n",
       "    <tr style=\"text-align: right;\">\n",
       "      <th></th>\n",
       "      <th>problem_id</th>\n",
       "      <th>problem</th>\n",
       "      <th>answer</th>\n",
       "      <th>solution_model</th>\n",
       "      <th>solution_model_provider</th>\n",
       "      <th>solution</th>\n",
       "      <th>solution_verified</th>\n",
       "    </tr>\n",
       "  </thead>\n",
       "  <tbody>\n",
       "    <tr>\n",
       "      <th>0</th>\n",
       "      <td>0</td>\n",
       "      <td>Toula went to the bakery and bought various ty...</td>\n",
       "      <td>694</td>\n",
       "      <td>command-r7b-12-2024</td>\n",
       "      <td>Cohere</td>\n",
       "      <td>To find the total cost of the pastries, we nee...</td>\n",
       "      <td>True</td>\n",
       "    </tr>\n",
       "    <tr>\n",
       "      <th>1</th>\n",
       "      <td>1</td>\n",
       "      <td>I have 10 liters of orange drink that are two-...</td>\n",
       "      <td>15</td>\n",
       "      <td>command-r7b-12-2024</td>\n",
       "      <td>Cohere</td>\n",
       "      <td>To solve this problem, we need to determine th...</td>\n",
       "      <td>True</td>\n",
       "    </tr>\n",
       "  </tbody>\n",
       "</table>\n",
       "</div>"
      ],
      "text/plain": [
       "   problem_id                                            problem  answer  \\\n",
       "0           0  Toula went to the bakery and bought various ty...     694   \n",
       "1           1  I have 10 liters of orange drink that are two-...      15   \n",
       "\n",
       "        solution_model solution_model_provider  \\\n",
       "0  command-r7b-12-2024                  Cohere   \n",
       "1  command-r7b-12-2024                  Cohere   \n",
       "\n",
       "                                            solution  solution_verified  \n",
       "0  To find the total cost of the pastries, we nee...               True  \n",
       "1  To solve this problem, we need to determine th...               True  "
      ]
     },
     "execution_count": 3,
     "metadata": {},
     "output_type": "execute_result"
    }
   ],
   "source": [
    "df = pd.read_csv(\"../datasets/gsm8k_straight_shot_solutions.csv\")\n",
    "df.head(2)"
   ]
  },
  {
   "cell_type": "code",
   "execution_count": 5,
   "metadata": {},
   "outputs": [
    {
     "name": "stdout",
     "output_type": "stream",
     "text": [
      "\n",
      "Number of records per solution model:\n",
      "solution_model\n",
      "command-r7b-12-2024                  100\n",
      "google/gemma-2-27b-it                100\n",
      "meta-llama/llama-3.3-70b-instruct    100\n",
      "mistralai/mistral-nemo               100\n",
      "qwen/qwen-2.5-72b-instruct           100\n",
      "qwen/qwq-32b-preview                 100\n",
      "Name: count, dtype: int64\n"
     ]
    }
   ],
   "source": [
    "# Count records per solution model\n",
    "model_counts = df['solution_model'].value_counts()\n",
    "print(\"\\nNumber of records per solution model:\")\n",
    "print(model_counts)"
   ]
  },
  {
   "cell_type": "code",
   "execution_count": 6,
   "metadata": {},
   "outputs": [
    {
     "name": "stdout",
     "output_type": "stream",
     "text": [
      "\n",
      "Percentage of verified solutions per model:\n",
      "solution_model\n",
      "command-r7b-12-2024                  94.0%\n",
      "google/gemma-2-27b-it                90.0%\n",
      "meta-llama/llama-3.3-70b-instruct    96.0%\n",
      "mistralai/mistral-nemo               89.0%\n",
      "qwen/qwen-2.5-72b-instruct           95.0%\n",
      "qwen/qwq-32b-preview                 94.0%\n",
      "Name: solution_verified, dtype: object\n"
     ]
    }
   ],
   "source": [
    "# Calculate percentage of verified solutions per model\n",
    "verification_rates = df.groupby('solution_model')['solution_verified'].mean() * 100\n",
    "\n",
    "print(\"\\nPercentage of verified solutions per model:\")\n",
    "print(verification_rates.round(2).astype(str) + '%')\n"
   ]
  },
  {
   "cell_type": "code",
   "execution_count": 13,
   "metadata": {},
   "outputs": [],
   "source": [
    "import pandas as pd"
   ]
  },
  {
   "cell_type": "code",
   "execution_count": 18,
   "metadata": {},
   "outputs": [
    {
     "name": "stdout",
     "output_type": "stream",
     "text": [
      "Number of rows: 3\n"
     ]
    },
    {
     "data": {
      "text/html": [
       "<div>\n",
       "<style scoped>\n",
       "    .dataframe tbody tr th:only-of-type {\n",
       "        vertical-align: middle;\n",
       "    }\n",
       "\n",
       "    .dataframe tbody tr th {\n",
       "        vertical-align: top;\n",
       "    }\n",
       "\n",
       "    .dataframe thead th {\n",
       "        text-align: right;\n",
       "    }\n",
       "</style>\n",
       "<table border=\"1\" class=\"dataframe\">\n",
       "  <thead>\n",
       "    <tr style=\"text-align: right;\">\n",
       "      <th></th>\n",
       "      <th>problem_id</th>\n",
       "      <th>problem</th>\n",
       "      <th>answer</th>\n",
       "      <th>solution_model</th>\n",
       "      <th>solution_model_provider</th>\n",
       "      <th>solution</th>\n",
       "      <th>solution_verified</th>\n",
       "    </tr>\n",
       "  </thead>\n",
       "  <tbody>\n",
       "    <tr>\n",
       "      <th>0</th>\n",
       "      <td>0</td>\n",
       "      <td>Janet’s ducks lay 16 eggs per day. She eats th...</td>\n",
       "      <td>18</td>\n",
       "      <td>deepseek/deepseek-r1</td>\n",
       "      <td>Together</td>\n",
       "      <td>Janet starts with 16 eggs each day. She uses 3...</td>\n",
       "      <td>True</td>\n",
       "    </tr>\n",
       "    <tr>\n",
       "      <th>1</th>\n",
       "      <td>1</td>\n",
       "      <td>A robe takes 2 bolts of blue fiber and half th...</td>\n",
       "      <td>3</td>\n",
       "      <td>deepseek/deepseek-r1</td>\n",
       "      <td>Together</td>\n",
       "      <td>The robe requires 2 bolts of blue fiber. The w...</td>\n",
       "      <td>True</td>\n",
       "    </tr>\n",
       "  </tbody>\n",
       "</table>\n",
       "</div>"
      ],
      "text/plain": [
       "   problem_id                                            problem  answer  \\\n",
       "0           0  Janet’s ducks lay 16 eggs per day. She eats th...      18   \n",
       "1           1  A robe takes 2 bolts of blue fiber and half th...       3   \n",
       "\n",
       "         solution_model solution_model_provider  \\\n",
       "0  deepseek/deepseek-r1                Together   \n",
       "1  deepseek/deepseek-r1                Together   \n",
       "\n",
       "                                            solution  solution_verified  \n",
       "0  Janet starts with 16 eggs each day. She uses 3...               True  \n",
       "1  The robe requires 2 bolts of blue fiber. The w...               True  "
      ]
     },
     "execution_count": 18,
     "metadata": {},
     "output_type": "execute_result"
    }
   ],
   "source": [
    "df = pd.read_csv(\"../datasets/gsm8k_straight_shot_solutions.csv\")\n",
    "print(f\"Number of rows: {len(df)}\")\n",
    "df.head(2)\n"
   ]
  },
  {
   "cell_type": "code",
   "execution_count": 15,
   "metadata": {},
   "outputs": [
    {
     "data": {
      "text/plain": [
       "\"Janet’s ducks lay 16 eggs per day. She eats three for breakfast every morning and bakes muffins for her friends every day with four. She sells the remainder at the farmers' market daily for $2 per fresh duck egg. How much in dollars does she make every day at the farmers' market?\""
      ]
     },
     "execution_count": 15,
     "metadata": {},
     "output_type": "execute_result"
    }
   ],
   "source": [
    "df.iloc[0][\"problem\"]"
   ]
  },
  {
   "cell_type": "code",
   "execution_count": 17,
   "metadata": {},
   "outputs": [
    {
     "name": "stdout",
     "output_type": "stream",
     "text": [
      "The robe requires 2 bolts of blue fiber. The white fiber needed is half the amount of blue fiber, which is \\( \\frac{2}{2} = 1 \\) bolt. Adding both together gives:\n",
      "\n",
      "\\[\n",
      "2 \\text{ (blue)} + 1 \\text{ (white)} = 3 \\text{ bolts total}\n",
      "\\]\n",
      "\n",
      "**Answer:** 3 bolts.\n"
     ]
    }
   ],
   "source": [
    "print(df.iloc[1][\"solution\"])"
   ]
  },
  {
   "cell_type": "code",
   "execution_count": 3,
   "metadata": {},
   "outputs": [
    {
     "name": "stdout",
     "output_type": "stream",
     "text": [
      "\n",
      "Overall percentage of verified solutions: 96.58%\n"
     ]
    }
   ],
   "source": [
    "# Calculate overall percentage of verified solutions\n",
    "verification_rate = (df['solution_verified'].mean() * 100).round(2)\n",
    "print(f\"\\nOverall percentage of verified solutions: {verification_rate}%\")\n"
   ]
  },
  {
   "cell_type": "code",
   "execution_count": null,
   "metadata": {},
   "outputs": [],
   "source": []
  },
  {
   "cell_type": "code",
   "execution_count": 9,
   "metadata": {},
   "outputs": [
    {
     "name": "stdout",
     "output_type": "stream",
     "text": [
      "Length of df: 500\n",
      "\n",
      "Percentage of verified solutions: 98.43%\n"
     ]
    }
   ],
   "source": [
    "import pandas as pd\n",
    "# df = pd.read_csv(\"../datasets/gsm8k-experiment/gsm8k_completions_on_policy_r1.csv\")\n",
    "# df = pd.read_csv(\"../datasets/gsm8k-experiment/gsm8k_completions_off_policy_r1.csv\")\n",
    "# pd.read_csv(\"../datasets/gsm8k-experiment/gsm8k_straight_shot_solutions_r1.csv\")\n",
    "# df = pd.read_csv(\"../datasets/gsm8k_straight_shot_solutions.csv\")\n",
    "# df = pd.read_csv(\"../datasets/gsm8k_stubs_and_perturbations_on_policy.csv\")\n",
    "# df = pd.read_csv(\"../datasets/gsm8k_stubs_and_perturbations_off_policy.csv\")\n",
    "df = pd.read_csv(\"../datasets/gsm8k_completions_off_policy.csv\")\n",
    "\n",
    "print(f\"Length of df: {len(df)}\")\n",
    "df.head(10)\n",
    "# df.iloc[1][\"perturbed_stub_lm\"]\n",
    "\n",
    "# Calculate percentage of verified solutions\n",
    "# verified_percentage = (df['solution_verified'].sum() / len(df) * 100).round(2)  # FOR SS\n",
    "# # verified_percentage = (df['perturbed_stub_lm_solution_verified'].sum() / len(df) * 100).round(2) # FOR OTHERS\n",
    "print(f\"\\nPercentage of verified solutions: {verified_percentage}%\")\n",
    "\n",
    "# print(f\"{df.iloc[0]['perturbed_stub_lm']} XXXXX {df.iloc[5]['perturbed_stub_lm_completion']}\")\n",
    "\n"
   ]
  },
  {
   "cell_type": "code",
   "execution_count": 45,
   "metadata": {},
   "outputs": [
    {
     "data": {
      "text/html": [
       "<div>\n",
       "<style scoped>\n",
       "    .dataframe tbody tr th:only-of-type {\n",
       "        vertical-align: middle;\n",
       "    }\n",
       "\n",
       "    .dataframe tbody tr th {\n",
       "        vertical-align: top;\n",
       "    }\n",
       "\n",
       "    .dataframe thead th {\n",
       "        text-align: right;\n",
       "    }\n",
       "</style>\n",
       "<table border=\"1\" class=\"dataframe\">\n",
       "  <thead>\n",
       "    <tr style=\"text-align: right;\">\n",
       "      <th></th>\n",
       "      <th>problem_id</th>\n",
       "      <th>problem</th>\n",
       "      <th>answer</th>\n",
       "      <th>solution_model</th>\n",
       "      <th>solution_model_provider</th>\n",
       "      <th>solution</th>\n",
       "      <th>solution_verified</th>\n",
       "    </tr>\n",
       "  </thead>\n",
       "  <tbody>\n",
       "    <tr>\n",
       "      <th>0</th>\n",
       "      <td>0</td>\n",
       "      <td>Convert the point $(0,3)$ in rectangular coord...</td>\n",
       "      <td>\\left( 3, \\frac{\\pi}{2} \\right)</td>\n",
       "      <td>deepseek/deepseek-r1</td>\n",
       "      <td>Together</td>\n",
       "      <td>\\nOkay, so I need to convert the rectangular c...</td>\n",
       "      <td>True</td>\n",
       "    </tr>\n",
       "  </tbody>\n",
       "</table>\n",
       "</div>"
      ],
      "text/plain": [
       "   problem_id                                            problem  \\\n",
       "0           0  Convert the point $(0,3)$ in rectangular coord...   \n",
       "\n",
       "                            answer        solution_model  \\\n",
       "0  \\left( 3, \\frac{\\pi}{2} \\right)  deepseek/deepseek-r1   \n",
       "\n",
       "  solution_model_provider                                           solution  \\\n",
       "0                Together  \\nOkay, so I need to convert the rectangular c...   \n",
       "\n",
       "   solution_verified  \n",
       "0               True  "
      ]
     },
     "execution_count": 45,
     "metadata": {},
     "output_type": "execute_result"
    }
   ],
   "source": [
    "df = pd.read_csv(\"../datasets/gsm8k_straight_shot_solutions.csv\")\n",
    "df.head(1)"
   ]
  }
 ],
 "metadata": {
  "kernelspec": {
   "display_name": "venv",
   "language": "python",
   "name": "python3"
  },
  "language_info": {
   "codemirror_mode": {
    "name": "ipython",
    "version": 3
   },
   "file_extension": ".py",
   "mimetype": "text/x-python",
   "name": "python",
   "nbconvert_exporter": "python",
   "pygments_lexer": "ipython3",
   "version": "3.12.6"
  }
 },
 "nbformat": 4,
 "nbformat_minor": 2
}
