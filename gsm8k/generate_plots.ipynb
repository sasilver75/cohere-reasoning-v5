{
 "cells": [
  {
   "cell_type": "code",
   "execution_count": 3,
   "metadata": {},
   "outputs": [],
   "source": [
    "import pandas as pd \n",
    "import matplotlib.pyplot as plt\n",
    "import os"
   ]
  },
  {
   "cell_type": "code",
   "execution_count": 4,
   "metadata": {},
   "outputs": [
    {
     "data": {
      "text/plain": [
       "'/home/sam/code/cohere/cohere-reasoning-v5/gsm8k'"
      ]
     },
     "execution_count": 4,
     "metadata": {},
     "output_type": "execute_result"
    }
   ],
   "source": [
    "os.getcwd()"
   ]
  },
  {
   "cell_type": "code",
   "execution_count": 13,
   "metadata": {},
   "outputs": [
    {
     "name": "stdout",
     "output_type": "stream",
     "text": [
      "GSM Symbolic Shapes: (600, 11), (600, 11), (600, 7)\n",
      "GSM Symbolic Matched Shapes: (600, 11), (600, 11), (600, 7)\n",
      "GSM Shapes: (7914, 11), (7914, 11), (7914, 7)\n",
      "Math Shapes: (3000, 11), (3000, 11), (2470, 7)\n"
     ]
    }
   ],
   "source": [
    "gsm_symbolic_completions_off = pd.read_csv(\"datasets/gsm-symbolic-experiment/gsm8k_completions_off_policy.csv\")\n",
    "gsm_symbolic_completions_on = pd.read_csv(\"datasets/gsm-symbolic-experiment/gsm8k_completions_on_policy.csv\")\n",
    "gsm_symbolic_straight_shot = pd.read_csv(\"datasets/gsm-symbolic-experiment/gsm8k_straight_shot_solutions.csv\")\n",
    "print(f\"GSM Symbolic Shapes: {gsm_symbolic_completions_off.shape}, {gsm_symbolic_completions_on.shape}, {gsm_symbolic_straight_shot.shape}\")\n",
    "\n",
    "\n",
    "gsm_symbolic_matched_completions_off = pd.read_csv(\"datasets/gsm-symbolic-matched-from-gsm8k-experiment/gsm8k_completions_off_policy.csv\")\n",
    "gsm_symbolic_matched_completions_on = pd.read_csv(\"datasets/gsm-symbolic-matched-from-gsm8k-experiment/gsm8k_completions_on_policy.csv\")\n",
    "gsm_symbolic_matched_straight_shot = pd.read_csv(\"datasets/gsm-symbolic-matched-from-gsm8k-experiment/gsm8k_straight_shot_solutions.csv\")\n",
    "print(f\"GSM Symbolic Matched Shapes: {gsm_symbolic_matched_completions_off.shape}, {gsm_symbolic_matched_completions_on.shape}, {gsm_symbolic_matched_straight_shot.shape}\")\n",
    "\n",
    "gsm_completions_off = pd.read_csv(\"datasets/gsm8k-experiment/gsm8k_completions_off_policy.csv\")\n",
    "gsm_completions_on = pd.read_csv(\"datasets/gsm8k-experiment/gsm8k_completions_on_policy.csv\")\n",
    "gsm_straight_shot = pd.read_csv(\"datasets/gsm8k-experiment/gsm8k_straight_shot_solutions.csv\")\n",
    "print(f\"GSM Shapes: {gsm_completions_off.shape}, {gsm_completions_on.shape}, {gsm_straight_shot.shape}\")\n",
    "\n",
    "math_completions_off = pd.read_csv(\"datasets/math-experiment/gsm8k_completions_off_policy.csv\")\n",
    "math_completions_on = pd.read_csv(\"datasets/math-experiment/gsm8k_completions_on_policy.csv\")\n",
    "math_straight_shot = pd.read_csv(\"datasets/math-experiment/gsm8k_straight_shot_solutions.csv\")\n",
    "print(f\"Math Shapes: {math_completions_off.shape}, {math_completions_on.shape}, {math_straight_shot.shape}\")\n"
   ]
  },
  {
   "cell_type": "code",
   "execution_count": 22,
   "metadata": {},
   "outputs": [
    {
     "name": "stdout",
     "output_type": "stream",
     "text": [
      "['problem_id', 'problem', 'answer', 'solution_model', 'solution_model_provider', 'solution', 'solution_verified']\n",
      "['problem_id', 'problem', 'answer', 'stub', 'stub_and_perturb_model', 'stub_and_perturb_model_provider', 'completion_model', 'completion_model_provider', 'perturbed_stub_lm', 'perturbed_stub_lm_completion', 'perturbed_stub_lm_solution_verified']\n",
      "['problem_id', 'problem', 'answer', 'stub', 'perturb_model', 'perturb_model_provider', 'completion_model', 'completion_model_provider', 'perturbed_stub_lm', 'perturbed_stub_lm_completion', 'perturbed_stub_lm_solution_verified']\n"
     ]
    }
   ],
   "source": [
    "print(list(gsm_symbolic_straight_shot.columns))\n",
    "print(list(gsm_symbolic_completions_off.columns))\n",
    "print(list(gsm_symbolic_completions_on.columns))"
   ]
  },
  {
   "cell_type": "code",
   "execution_count": 20,
   "metadata": {},
   "outputs": [],
   "source": [
    "dfs = [\n",
    "    gsm_symbolic_completions_off, gsm_symbolic_completions_on, gsm_symbolic_straight_shot, \n",
    "    gsm_symbolic_matched_completions_off, gsm_symbolic_matched_completions_on, gsm_symbolic_matched_straight_shot,\n",
    "    gsm_completions_off, gsm_completions_on, gsm_straight_shot,\n",
    "    math_completions_off, math_completions_on, math_straight_shot\n",
    "]\n"
   ]
  },
  {
   "cell_type": "code",
   "execution_count": 28,
   "metadata": {},
   "outputs": [],
   "source": [
    "# Calculate percentage of verified solutions per model\n",
    "def get_rates(df):\n",
    "    model_col = \"solution_model\" if \"solution_model\" in df.columns else \"completion_model\"\n",
    "    verified_col = \"solution_verified\" if \"solution_verified\" in df.columns else \"perturbed_stub_lm_solution_verified\"\n",
    "    return df.groupby(model_col)[verified_col].mean().to_dict()"
   ]
  },
  {
   "cell_type": "code",
   "execution_count": null,
   "metadata": {},
   "outputs": [],
   "source": [
    "# I want to get the average "
   ]
  }
 ],
 "metadata": {
  "kernelspec": {
   "display_name": "venv",
   "language": "python",
   "name": "python3"
  },
  "language_info": {
   "codemirror_mode": {
    "name": "ipython",
    "version": 3
   },
   "file_extension": ".py",
   "mimetype": "text/x-python",
   "name": "python",
   "nbconvert_exporter": "python",
   "pygments_lexer": "ipython3",
   "version": "3.12.6"
  }
 },
 "nbformat": 4,
 "nbformat_minor": 2
}
