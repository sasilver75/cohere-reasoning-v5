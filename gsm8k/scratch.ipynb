{
 "cells": [
  {
   "cell_type": "code",
   "execution_count": 4,
   "metadata": {},
   "outputs": [],
   "source": [
    "import pandas as pd\n",
    "import os"
   ]
  },
  {
   "cell_type": "code",
   "execution_count": 6,
   "metadata": {},
   "outputs": [
    {
     "data": {
      "text/plain": [
       "'/home/sam/code/cohere/cohere-reasoning-v5/gsm8k'"
      ]
     },
     "execution_count": 6,
     "metadata": {},
     "output_type": "execute_result"
    }
   ],
   "source": [
    "os.getcwd()"
   ]
  },
  {
   "cell_type": "code",
   "execution_count": 11,
   "metadata": {},
   "outputs": [
    {
     "name": "stdout",
     "output_type": "stream",
     "text": [
      "Loaded 6 rows\n"
     ]
    },
    {
     "data": {
      "text/html": [
       "<div>\n",
       "<style scoped>\n",
       "    .dataframe tbody tr th:only-of-type {\n",
       "        vertical-align: middle;\n",
       "    }\n",
       "\n",
       "    .dataframe tbody tr th {\n",
       "        vertical-align: top;\n",
       "    }\n",
       "\n",
       "    .dataframe thead th {\n",
       "        text-align: right;\n",
       "    }\n",
       "</style>\n",
       "<table border=\"1\" class=\"dataframe\">\n",
       "  <thead>\n",
       "    <tr style=\"text-align: right;\">\n",
       "      <th></th>\n",
       "      <th>problem_id</th>\n",
       "      <th>problem</th>\n",
       "      <th>answer</th>\n",
       "      <th>stub_model</th>\n",
       "      <th>stub_model_provider</th>\n",
       "      <th>perturb_model</th>\n",
       "      <th>perturb_model_provider</th>\n",
       "      <th>stub</th>\n",
       "      <th>perturbed_stub</th>\n",
       "    </tr>\n",
       "  </thead>\n",
       "  <tbody>\n",
       "    <tr>\n",
       "      <th>0</th>\n",
       "      <td>0</td>\n",
       "      <td>Janet’s ducks lay 16 eggs per day. She eats th...</td>\n",
       "      <td>18</td>\n",
       "      <td>command-r7b-12-2024</td>\n",
       "      <td>Cohere</td>\n",
       "      <td>deepseek/deepseek-chat</td>\n",
       "      <td>Hyperbolic</td>\n",
       "      <td>To determine how much Janet makes every day at...</td>\n",
       "      <td>To determine how much Janet makes every day at...</td>\n",
       "    </tr>\n",
       "    <tr>\n",
       "      <th>1</th>\n",
       "      <td>0</td>\n",
       "      <td>Janet’s ducks lay 16 eggs per day. She eats th...</td>\n",
       "      <td>18</td>\n",
       "      <td>google/gemma-2-27b-it</td>\n",
       "      <td>DeepInfra</td>\n",
       "      <td>deepseek/deepseek-chat</td>\n",
       "      <td>Hyperbolic</td>\n",
       "      <td>\\n\\nHere's how to solve the problem:\\n\\n**1. C...</td>\n",
       "      <td>Here's how to solve the problem:\\n\\n**1. Calcu...</td>\n",
       "    </tr>\n",
       "    <tr>\n",
       "      <th>2</th>\n",
       "      <td>1</td>\n",
       "      <td>A robe takes 2 bolts of blue fiber and half th...</td>\n",
       "      <td>3</td>\n",
       "      <td>command-r7b-12-2024</td>\n",
       "      <td>Cohere</td>\n",
       "      <td>deepseek/deepseek-chat</td>\n",
       "      <td>Hyperbolic</td>\n",
       "      <td>To determine the total number of bolts needed ...</td>\n",
       "      <td>To determine the total number of bolts needed ...</td>\n",
       "    </tr>\n",
       "    <tr>\n",
       "      <th>3</th>\n",
       "      <td>1</td>\n",
       "      <td>A robe takes 2 bolts of blue fiber and half th...</td>\n",
       "      <td>3</td>\n",
       "      <td>google/gemma-2-27b-it</td>\n",
       "      <td>DeepInfra</td>\n",
       "      <td>deepseek/deepseek-chat</td>\n",
       "      <td>Hyperbolic</td>\n",
       "      <td>\\n\\nHere's how to solve the problem:\\n\\n* **Fi...</td>\n",
       "      <td>Here's how to solve the problem:\\n\\n* **Find t...</td>\n",
       "    </tr>\n",
       "    <tr>\n",
       "      <th>4</th>\n",
       "      <td>2</td>\n",
       "      <td>Josh decides to try flipping a house.  He buys...</td>\n",
       "      <td>70000</td>\n",
       "      <td>command-r7b-12-2024</td>\n",
       "      <td>Cohere</td>\n",
       "      <td>deepseek/deepseek-chat</td>\n",
       "      <td>Hyperbolic</td>\n",
       "      <td>To determine Josh's profit, we need to calcula...</td>\n",
       "      <td>To determine Josh's profit, we need to calcula...</td>\n",
       "    </tr>\n",
       "  </tbody>\n",
       "</table>\n",
       "</div>"
      ],
      "text/plain": [
       "   problem_id                                            problem  answer  \\\n",
       "0           0  Janet’s ducks lay 16 eggs per day. She eats th...      18   \n",
       "1           0  Janet’s ducks lay 16 eggs per day. She eats th...      18   \n",
       "2           1  A robe takes 2 bolts of blue fiber and half th...       3   \n",
       "3           1  A robe takes 2 bolts of blue fiber and half th...       3   \n",
       "4           2  Josh decides to try flipping a house.  He buys...   70000   \n",
       "\n",
       "              stub_model stub_model_provider           perturb_model  \\\n",
       "0    command-r7b-12-2024              Cohere  deepseek/deepseek-chat   \n",
       "1  google/gemma-2-27b-it           DeepInfra  deepseek/deepseek-chat   \n",
       "2    command-r7b-12-2024              Cohere  deepseek/deepseek-chat   \n",
       "3  google/gemma-2-27b-it           DeepInfra  deepseek/deepseek-chat   \n",
       "4    command-r7b-12-2024              Cohere  deepseek/deepseek-chat   \n",
       "\n",
       "  perturb_model_provider                                               stub  \\\n",
       "0             Hyperbolic  To determine how much Janet makes every day at...   \n",
       "1             Hyperbolic  \\n\\nHere's how to solve the problem:\\n\\n**1. C...   \n",
       "2             Hyperbolic  To determine the total number of bolts needed ...   \n",
       "3             Hyperbolic  \\n\\nHere's how to solve the problem:\\n\\n* **Fi...   \n",
       "4             Hyperbolic  To determine Josh's profit, we need to calcula...   \n",
       "\n",
       "                                      perturbed_stub  \n",
       "0  To determine how much Janet makes every day at...  \n",
       "1  Here's how to solve the problem:\\n\\n**1. Calcu...  \n",
       "2  To determine the total number of bolts needed ...  \n",
       "3  Here's how to solve the problem:\\n\\n* **Find t...  \n",
       "4  To determine Josh's profit, we need to calcula...  "
      ]
     },
     "execution_count": 11,
     "metadata": {},
     "output_type": "execute_result"
    }
   ],
   "source": [
    "stub_df = pd.read_csv(\"datasets/gsm8k_stubs_and_perturbations_on_policy.csv\")\n",
    "print(f\"Loaded {len(stub_df)} rows\")\n",
    "stub_df.head()"
   ]
  },
  {
   "cell_type": "code",
   "execution_count": 17,
   "metadata": {},
   "outputs": [
    {
     "name": "stdout",
     "output_type": "stream",
     "text": [
      "Loaded 10 rows\n",
      "Index(['problem_id', 'problem', 'answer', 'stub_and_perturb_model',\n",
      "       'stub_and_perturb_model_provider', 'stub', 'completion_model',\n",
      "       'completion_model_provider', 'perturbed_stub_lm',\n",
      "       'perturbed_stub_lm_completion', 'perturbed_stub_lm_solution_verified'],\n",
      "      dtype='object')\n"
     ]
    }
   ],
   "source": [
    "\n",
    "completion_df_off_policy = pd.read_csv(\"datasets/gsm8k_completions_off_policy.csv\")\n",
    "print(f\"Loaded {len(completion_df_off_policy)} rows\")\n",
    "completion_df_off_policy.head()\n",
    "print(completion_df_off_policy.columns)"
   ]
  },
  {
   "cell_type": "code",
   "execution_count": 18,
   "metadata": {},
   "outputs": [
    {
     "name": "stdout",
     "output_type": "stream",
     "text": [
      "Loaded 60 rows\n",
      "Index(['problem_id', 'problem', 'answer', 'stub_model', 'stub_model_provider',\n",
      "       'perturb_model', 'perturb_model_provider', 'stub', 'perturbed_stub',\n",
      "       'completer_model', 'completer_model_provider', 'completion',\n",
      "       'verifier_model', 'verifier_model_provider', 'verification'],\n",
      "      dtype='object')\n"
     ]
    }
   ],
   "source": [
    "completion_df_on_policy = pd.read_csv(\"datasets/gsm8k_completions_on_policy.csv\")\n",
    "print(f\"Loaded {len(completion_df_on_policy)} rows\")\n",
    "completion_df_on_policy.head()\n",
    "print(completion_df_on_policy.columns)"
   ]
  }
 ],
 "metadata": {
  "kernelspec": {
   "display_name": "venv",
   "language": "python",
   "name": "python3"
  },
  "language_info": {
   "codemirror_mode": {
    "name": "ipython",
    "version": 3
   },
   "file_extension": ".py",
   "mimetype": "text/x-python",
   "name": "python",
   "nbconvert_exporter": "python",
   "pygments_lexer": "ipython3",
   "version": "3.12.6"
  }
 },
 "nbformat": 4,
 "nbformat_minor": 2
}
